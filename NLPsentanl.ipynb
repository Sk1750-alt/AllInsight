{
  "nbformat": 4,
  "nbformat_minor": 0,
  "metadata": {
    "colab": {
      "provenance": [],
      "gpuType": "T4"
    },
    "kernelspec": {
      "name": "python3",
      "display_name": "Python 3"
    },
    "language_info": {
      "name": "python"
    },
    "accelerator": "GPU"
  },
  "cells": [
    {
      "cell_type": "code",
      "source": [
        "import pandas as pd\n",
        "from sklearn.model_selection import train_test_split\n",
        "from sklearn.metrics import accuracy_score, classification_report\n",
        "from transformers import BertTokenizer, BertForSequenceClassification\n",
        "from transformers import Trainer, TrainingArguments\n",
        "import torch\n",
        "from torch.utils.data import Dataset, DataLoader\n",
        "import os\n",
        "import matplotlib.pyplot as plt\n",
        "os.environ[\"WANDB_DISABLED\"] = \"true\""
      ],
      "metadata": {
        "id": "Q9JoN6p6fzK2"
      },
      "execution_count": null,
      "outputs": []
    },
    {
      "cell_type": "code",
      "source": [
        "# Load datasets\n",
        "train_file = \"your_sentiment_data.csv\"\n",
        "test_file = \"Politics.csv\"\n",
        "\n",
        "train_data = pd.read_csv(train_file)\n",
        "test_data = pd.read_csv(test_file)"
      ],
      "metadata": {
        "id": "NDvb9S88f1o1"
      },
      "execution_count": null,
      "outputs": []
    },
    {
      "cell_type": "code",
      "source": [
        "# Define a custom dataset class\n",
        "class SentimentDataset(Dataset):\n",
        "    def __init__(self, texts, labels, tokenizer, max_length=128):\n",
        "        self.texts = texts\n",
        "        self.labels = labels\n",
        "        self.tokenizer = tokenizer\n",
        "        self.max_length = max_length\n",
        "\n",
        "    def __len__(self):\n",
        "        return len(self.texts)\n",
        "\n",
        "    def __getitem__(self, idx):\n",
        "        text = self.texts[idx]\n",
        "        label = self.labels[idx]\n",
        "        encoding = self.tokenizer.encode_plus(\n",
        "            text,\n",
        "            add_special_tokens=True,\n",
        "            max_length=self.max_length,\n",
        "            truncation=True,\n",
        "            padding=\"max_length\",\n",
        "            return_tensors=\"pt\"\n",
        "        )\n",
        "        return {\n",
        "            'input_ids': encoding['input_ids'].squeeze(0),\n",
        "            'attention_mask': encoding['attention_mask'].squeeze(0),\n",
        "            'labels': torch.tensor(label, dtype=torch.long)\n",
        "        }\n",
        "\n",
        "# Load tokenizer and define datasets\n",
        "tokenizer = BertTokenizer.from_pretrained('bert-base-uncased')\n",
        "\n",
        "train_texts = train_data['text'].tolist()\n",
        "train_labels = train_data['label'].tolist()\n",
        "\n",
        "test_texts = test_data['text'].tolist()\n",
        "test_labels = [1 if label == \"positive\" else 0 for label in test_data['label'].tolist()]\n",
        "\n",
        "train_dataset = SentimentDataset(train_texts, train_labels, tokenizer)\n",
        "test_dataset = SentimentDataset(test_texts, test_labels, tokenizer)"
      ],
      "metadata": {
        "id": "bQoLMzjCgLVR"
      },
      "execution_count": null,
      "outputs": []
    },
    {
      "cell_type": "code",
      "source": [
        "# Define the model\n",
        "model = BertForSequenceClassification.from_pretrained('bert-base-uncased', num_labels=2)\n",
        "\n",
        "# Define training arguments\n",
        "training_args = TrainingArguments(\n",
        "    output_dir=\"./results\",\n",
        "    num_train_epochs=3,\n",
        "    per_device_train_batch_size=16,\n",
        "    per_device_eval_batch_size=16,\n",
        "    warmup_steps=500,\n",
        "    weight_decay=0.01,\n",
        "    logging_dir=\"./logs\",\n",
        "    logging_steps=10,\n",
        "    evaluation_strategy=\"epoch\"\n",
        ")\n",
        "\n",
        "# Define Trainer\n",
        "trainer = Trainer(\n",
        "    model=model,\n",
        "    args=training_args,\n",
        "    train_dataset=train_dataset,\n",
        "    eval_dataset=test_dataset, # Add this line to pass the evaluation dataset\n",
        "    tokenizer=tokenizer\n",
        ")\n",
        "\n",
        "# Train the model\n",
        "trainer.train()"
      ],
      "metadata": {
        "colab": {
          "base_uri": "https://localhost:8080/",
          "height": 380
        },
        "id": "IDQ0-juRgQaR",
        "outputId": "d40071a8-f0c6-4e8f-f416-7a791bca90eb"
      },
      "execution_count": null,
      "outputs": [
        {
          "output_type": "stream",
          "name": "stderr",
          "text": [
            "Some weights of BertForSequenceClassification were not initialized from the model checkpoint at bert-base-uncased and are newly initialized: ['classifier.bias', 'classifier.weight']\n",
            "You should probably TRAIN this model on a down-stream task to be able to use it for predictions and inference.\n",
            "/usr/local/lib/python3.10/dist-packages/transformers/training_args.py:1575: FutureWarning: `evaluation_strategy` is deprecated and will be removed in version 4.46 of 🤗 Transformers. Use `eval_strategy` instead\n",
            "  warnings.warn(\n",
            "Using the `WANDB_DISABLED` environment variable is deprecated and will be removed in v5. Use the --report_to flag to control the integrations used for logging result (for instance --report_to none).\n",
            "<ipython-input-8-e997d35d0658>:18: FutureWarning: `tokenizer` is deprecated and will be removed in version 5.0.0 for `Trainer.__init__`. Use `processing_class` instead.\n",
            "  trainer = Trainer(\n"
          ]
        },
        {
          "output_type": "display_data",
          "data": {
            "text/plain": [
              "<IPython.core.display.HTML object>"
            ],
            "text/html": [
              "\n",
              "    <div>\n",
              "      \n",
              "      <progress value='939' max='939' style='width:300px; height:20px; vertical-align: middle;'></progress>\n",
              "      [939/939 07:27, Epoch 3/3]\n",
              "    </div>\n",
              "    <table border=\"1\" class=\"dataframe\">\n",
              "  <thead>\n",
              " <tr style=\"text-align: left;\">\n",
              "      <th>Epoch</th>\n",
              "      <th>Training Loss</th>\n",
              "      <th>Validation Loss</th>\n",
              "    </tr>\n",
              "  </thead>\n",
              "  <tbody>\n",
              "    <tr>\n",
              "      <td>1</td>\n",
              "      <td>0.371600</td>\n",
              "      <td>0.497096</td>\n",
              "    </tr>\n",
              "    <tr>\n",
              "      <td>2</td>\n",
              "      <td>0.299100</td>\n",
              "      <td>0.456167</td>\n",
              "    </tr>\n",
              "    <tr>\n",
              "      <td>3</td>\n",
              "      <td>0.086300</td>\n",
              "      <td>0.412309</td>\n",
              "    </tr>\n",
              "  </tbody>\n",
              "</table><p>"
            ]
          },
          "metadata": {}
        },
        {
          "output_type": "execute_result",
          "data": {
            "text/plain": [
              "TrainOutput(global_step=939, training_loss=0.3307397005657038, metrics={'train_runtime': 450.0687, 'train_samples_per_second': 33.328, 'train_steps_per_second': 2.086, 'total_flos': 986666457600000.0, 'train_loss': 0.3307397005657038, 'epoch': 3.0})"
            ]
          },
          "metadata": {},
          "execution_count": 8
        }
      ]
    },
    {
      "cell_type": "markdown",
      "source": [
        "Calculate the accuracy of the model"
      ],
      "metadata": {
        "id": "0lWhJnUguMpW"
      }
    },
    {
      "source": [
        "# Evaluate on the test dataset\n",
        "def evaluate_model(model, test_dataset, device): # Add device argument\n",
        "    test_dataloader = DataLoader(test_dataset, batch_size=16)\n",
        "    model.eval()\n",
        "    predictions = []\n",
        "    true_labels = []\n",
        "    with torch.no_grad():\n",
        "        for batch in test_dataloader:\n",
        "            input_ids = batch['input_ids'].to(device) # Move to device\n",
        "            attention_mask = batch['attention_mask'].to(device) # Move to device\n",
        "            labels = batch['labels'].to(device) # Move to device\n",
        "            outputs = model(input_ids=input_ids, attention_mask=attention_mask)\n",
        "            logits = outputs.logits\n",
        "            preds = torch.argmax(logits, dim=1).detach().cpu().numpy()\n",
        "            predictions.extend(preds)\n",
        "            true_labels.extend(labels.cpu().numpy())\n",
        "    return predictions, true_labels\n",
        "\n",
        "# Get the device\n",
        "device = torch.device(\"cuda\" if torch.cuda.is_available() else \"cpu\")\n",
        "model.to(device) # Move the model to the device\n",
        "\n",
        "# Call evaluate_model with the device\n",
        "predictions, true_labels = evaluate_model(model, test_dataset, device)\n",
        "\n",
        "# Calculate accuracy\n",
        "accuracy = accuracy_score(true_labels, predictions)\n",
        "report = classification_report(true_labels, predictions)\n",
        "\n",
        "print(f\"Accuracy: {accuracy}\")\n",
        "print(f\"Classification Report:\\n{report}\")\n",
        "accuracy_percentage = accuracy * 100\n",
        "print(f\"Accuracy: {accuracy_percentage}%\")"
      ],
      "cell_type": "code",
      "metadata": {
        "colab": {
          "base_uri": "https://localhost:8080/"
        },
        "id": "1p1KJaIujfpu",
        "outputId": "652b212e-8fe4-44c6-c9eb-9a6d2711f26c"
      },
      "execution_count": null,
      "outputs": [
        {
          "output_type": "stream",
          "name": "stdout",
          "text": [
            "Accuracy: 0.8301886792452831\n",
            "Classification Report:\n",
            "              precision    recall  f1-score   support\n",
            "\n",
            "           0       0.95      0.71      0.82        28\n",
            "           1       0.75      0.96      0.84        25\n",
            "\n",
            "    accuracy                           0.83        53\n",
            "   macro avg       0.85      0.84      0.83        53\n",
            "weighted avg       0.86      0.83      0.83        53\n",
            "\n",
            "Accuracy: 83.01886792452831%\n"
          ]
        }
      ]
    },
    {
      "cell_type": "markdown",
      "source": [
        "Downloading the trained model in zip format"
      ],
      "metadata": {
        "id": "IS7ffvHtt_JU"
      }
    },
    {
      "cell_type": "code",
      "source": [
        "import shutil\n",
        "import os\n",
        "\n",
        "output_dir = \"./results\"  # Your model's output directory\n",
        "archive_name = \"trained_model\" # Name of the archive (without extension)\n",
        "archive_format = \"zip\" # Format of the archive (zip, tar, gztar, bztar)\n",
        "\n",
        "# Create the archive\n",
        "shutil.make_archive(archive_name, archive_format, output_dir)\n",
        "\n",
        "print(f\"Model saved as {archive_name}.{archive_format}\")\n",
        "\n",
        "#Clean up the directory after archiving (optional)\n",
        "shutil.rmtree(output_dir)\n",
        "print(f\"Directory {output_dir} removed.\")"
      ],
      "metadata": {
        "colab": {
          "base_uri": "https://localhost:8080/"
        },
        "id": "SQpUU40-pMIN",
        "outputId": "e9635624-d43d-4d31-f35d-83198fc91c9e"
      },
      "execution_count": null,
      "outputs": [
        {
          "output_type": "stream",
          "name": "stdout",
          "text": [
            "Model saved as trained_model.zip\n",
            "Directory ./results removed.\n"
          ]
        }
      ]
    },
    {
      "cell_type": "markdown",
      "source": [
        "Run the trained model with suitable example"
      ],
      "metadata": {
        "id": "ZkZvziSWt2eV"
      }
    },
    {
      "cell_type": "code",
      "source": [
        "import shutil\n",
        "import os\n",
        "from transformers import BertTokenizer, BertForSequenceClassification\n",
        "import torch\n",
        "\n",
        "def analyze_sentiment(text, model, tokenizer, device):\n",
        "    inputs = tokenizer(text, padding=True, truncation=True, return_tensors=\"pt\").to(device)\n",
        "    with torch.no_grad():\n",
        "        outputs = model(**inputs)\n",
        "    probabilities = torch.nn.functional.softmax(outputs.logits, dim=-1)\n",
        "    predicted_class = torch.argmax(probabilities).item()\n",
        "    sentiment = \"Positive\" if predicted_class == 1 else \"Negative\"\n",
        "    return sentiment, probabilities[0].cpu().numpy()\n",
        "\n",
        "# Extract the archive (if not already extracted)\n",
        "archive_name = \"trained_model.zip\"\n",
        "extract_path = \"extracted_model\"\n",
        "\n",
        "if not os.path.exists(extract_path):\n",
        "    try:\n",
        "        shutil.unpack_archive(archive_name, extract_path)\n",
        "        print(f\"Model extracted to {extract_path}\") # Informative message\n",
        "    except FileNotFoundError:\n",
        "        print(f\"Error: Archive {archive_name} not found. Please ensure it is in the correct directory.\")\n",
        "        exit() # Exit gracefully if the archive is not found\n",
        "    except Exception as e:\n",
        "        print(f\"Error extracting archive: {e}\")\n",
        "        exit()\n",
        "else:\n",
        "    print(f\"Model already extracted in {extract_path}\")\n",
        "\n",
        "\n",
        "# Load the model and tokenizer\n",
        "device = torch.device(\"cuda\" if torch.cuda.is_available() else \"cpu\")\n",
        "try:\n",
        "    tokenizer = BertTokenizer.from_pretrained(extract_path)\n",
        "    model = BertForSequenceClassification.from_pretrained(extract_path).to(device)\n",
        "    model.eval()\n",
        "    print(\"Model and Tokenizer loaded successfully.\")\n",
        "except Exception as e:\n",
        "    print(f\"Error loading model or tokenizer: {e}\")\n",
        "    exit()\n",
        "\n",
        "# Example usage (you can modify this for interactive input)\n",
        "examples = [\n",
        "    \"This product is absolutely fantastic! I highly recommend it.\",\n",
        "    \"I had a terrible experience. The service was awful and the product was defective.\",\n",
        "    \"The movie was okay, nothing special.\",\n",
        "    \"This is a very complex issue with no easy solutions.\",\n",
        "    \"The new software update is a game-changer for our workflow.\" #Added one more example\n",
        "]\n",
        "\n",
        "print(\"\\nStarting Sentiment Analysis Demo:\\n\") #Clearer start message\n",
        "for i, example in enumerate(examples):\n",
        "    sentiment, probabilities = analyze_sentiment(example, model, tokenizer, device)\n",
        "    print(f\"Example {i+1}:\") #Numbered examples for clarity\n",
        "    print(f\"Text: \\\"{example}\\\"\")\n",
        "    print(f\"Sentiment: {sentiment}\")\n",
        "    print(f\"Positive Probability: {probabilities[1]:.4f}\") #More readable probability output\n",
        "    print(f\"Negative Probability: {probabilities[0]:.4f}\")\n",
        "    print(\"-\" * 30)\n",
        "\n",
        "#Optional cleanup (Only after the Demo is successfully finished)\n",
        "cleanup = input(\"Do you want to clean up the extracted model files? (yes/no): \")\n",
        "if cleanup.lower() == \"yes\":\n",
        "    try:\n",
        "        shutil.rmtree(extract_path)\n",
        "        print(f\"Directory {extract_path} removed.\")\n",
        "    except Exception as e:\n",
        "        print(f\"Error removing directory: {e}\")\n",
        "else:\n",
        "    print(\"Cleanup skipped.\")\n",
        "\n",
        "print(\"\\nDemo Complete.\") #Clear end message"
      ],
      "metadata": {
        "id": "kV54i2E1tJTB",
        "outputId": "d56580a6-6a23-4953-bba8-1f45cab71bf0",
        "colab": {
          "base_uri": "https://localhost:8080/",
          "height": 317
        }
      },
      "execution_count": 1,
      "outputs": [
        {
          "output_type": "stream",
          "name": "stdout",
          "text": [
            "Model already extracted in extracted_model\n",
            "Error loading model or tokenizer: Can't load tokenizer for 'extracted_model'. If you were trying to load it from 'https://huggingface.co/models', make sure you don't have a local directory with the same name. Otherwise, make sure 'extracted_model' is the correct path to a directory containing all relevant files for a BertTokenizer tokenizer.\n",
            "\n",
            "Starting Sentiment Analysis Demo:\n",
            "\n"
          ]
        },
        {
          "output_type": "error",
          "ename": "NameError",
          "evalue": "name 'model' is not defined",
          "traceback": [
            "\u001b[0;31m---------------------------------------------------------------------------\u001b[0m",
            "\u001b[0;31mNameError\u001b[0m                                 Traceback (most recent call last)",
            "\u001b[0;32m<ipython-input-1-bb2b9fc3324c>\u001b[0m in \u001b[0;36m<cell line: 54>\u001b[0;34m()\u001b[0m\n\u001b[1;32m     53\u001b[0m \u001b[0mprint\u001b[0m\u001b[0;34m(\u001b[0m\u001b[0;34m\"\\nStarting Sentiment Analysis Demo:\\n\"\u001b[0m\u001b[0;34m)\u001b[0m \u001b[0;31m#Clearer start message\u001b[0m\u001b[0;34m\u001b[0m\u001b[0;34m\u001b[0m\u001b[0m\n\u001b[1;32m     54\u001b[0m \u001b[0;32mfor\u001b[0m \u001b[0mi\u001b[0m\u001b[0;34m,\u001b[0m \u001b[0mexample\u001b[0m \u001b[0;32min\u001b[0m \u001b[0menumerate\u001b[0m\u001b[0;34m(\u001b[0m\u001b[0mexamples\u001b[0m\u001b[0;34m)\u001b[0m\u001b[0;34m:\u001b[0m\u001b[0;34m\u001b[0m\u001b[0;34m\u001b[0m\u001b[0m\n\u001b[0;32m---> 55\u001b[0;31m     \u001b[0msentiment\u001b[0m\u001b[0;34m,\u001b[0m \u001b[0mprobabilities\u001b[0m \u001b[0;34m=\u001b[0m \u001b[0manalyze_sentiment\u001b[0m\u001b[0;34m(\u001b[0m\u001b[0mexample\u001b[0m\u001b[0;34m,\u001b[0m \u001b[0mmodel\u001b[0m\u001b[0;34m,\u001b[0m \u001b[0mtokenizer\u001b[0m\u001b[0;34m,\u001b[0m \u001b[0mdevice\u001b[0m\u001b[0;34m)\u001b[0m\u001b[0;34m\u001b[0m\u001b[0;34m\u001b[0m\u001b[0m\n\u001b[0m\u001b[1;32m     56\u001b[0m     \u001b[0mprint\u001b[0m\u001b[0;34m(\u001b[0m\u001b[0;34mf\"Example {i+1}:\"\u001b[0m\u001b[0;34m)\u001b[0m \u001b[0;31m#Numbered examples for clarity\u001b[0m\u001b[0;34m\u001b[0m\u001b[0;34m\u001b[0m\u001b[0m\n\u001b[1;32m     57\u001b[0m     \u001b[0mprint\u001b[0m\u001b[0;34m(\u001b[0m\u001b[0;34mf\"Text: \\\"{example}\\\"\"\u001b[0m\u001b[0;34m)\u001b[0m\u001b[0;34m\u001b[0m\u001b[0;34m\u001b[0m\u001b[0m\n",
            "\u001b[0;31mNameError\u001b[0m: name 'model' is not defined"
          ]
        }
      ]
    },
    {
      "cell_type": "code",
      "source": [],
      "metadata": {
        "id": "ATbzR0Cdlmno"
      },
      "execution_count": null,
      "outputs": []
    }
  ]
}